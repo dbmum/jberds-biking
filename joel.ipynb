{
 "cells": [
  {
   "cell_type": "code",
   "execution_count": 1,
   "metadata": {
    "collapsed": true,
    "ExecuteTime": {
     "end_time": "2023-06-05T19:41:52.728711Z",
     "start_time": "2023-06-05T19:41:48.770933Z"
    }
   },
   "outputs": [
    {
     "data": {
      "text/plain": "       season  hr  holiday  workingday  weathersit   hum  windspeed  temp_c  \\\n581         1  12        0           1           3  0.93         22    2.34   \n2916        2  10        0           1           2  0.49         22   17.38   \n4313        3  15        0           0           1  0.53         20   31.48   \n16075       4  12        0           1           2  0.53         19    7.04   \n8757        1  17        0           1           2  0.34         13    8.92   \n\n       feels_like_c  casual  registered  \n581         -2.9980       7          41  \n2916        18.0032      30          97  \n4313        36.9980     194         182  \n16075        3.9980      24         188  \n8757         7.0010      19         393  ",
      "text/html": "<div>\n<style scoped>\n    .dataframe tbody tr th:only-of-type {\n        vertical-align: middle;\n    }\n\n    .dataframe tbody tr th {\n        vertical-align: top;\n    }\n\n    .dataframe thead th {\n        text-align: right;\n    }\n</style>\n<table border=\"1\" class=\"dataframe\">\n  <thead>\n    <tr style=\"text-align: right;\">\n      <th></th>\n      <th>season</th>\n      <th>hr</th>\n      <th>holiday</th>\n      <th>workingday</th>\n      <th>weathersit</th>\n      <th>hum</th>\n      <th>windspeed</th>\n      <th>temp_c</th>\n      <th>feels_like_c</th>\n      <th>casual</th>\n      <th>registered</th>\n    </tr>\n  </thead>\n  <tbody>\n    <tr>\n      <th>581</th>\n      <td>1</td>\n      <td>12</td>\n      <td>0</td>\n      <td>1</td>\n      <td>3</td>\n      <td>0.93</td>\n      <td>22</td>\n      <td>2.34</td>\n      <td>-2.9980</td>\n      <td>7</td>\n      <td>41</td>\n    </tr>\n    <tr>\n      <th>2916</th>\n      <td>2</td>\n      <td>10</td>\n      <td>0</td>\n      <td>1</td>\n      <td>2</td>\n      <td>0.49</td>\n      <td>22</td>\n      <td>17.38</td>\n      <td>18.0032</td>\n      <td>30</td>\n      <td>97</td>\n    </tr>\n    <tr>\n      <th>4313</th>\n      <td>3</td>\n      <td>15</td>\n      <td>0</td>\n      <td>0</td>\n      <td>1</td>\n      <td>0.53</td>\n      <td>20</td>\n      <td>31.48</td>\n      <td>36.9980</td>\n      <td>194</td>\n      <td>182</td>\n    </tr>\n    <tr>\n      <th>16075</th>\n      <td>4</td>\n      <td>12</td>\n      <td>0</td>\n      <td>1</td>\n      <td>2</td>\n      <td>0.53</td>\n      <td>19</td>\n      <td>7.04</td>\n      <td>3.9980</td>\n      <td>24</td>\n      <td>188</td>\n    </tr>\n    <tr>\n      <th>8757</th>\n      <td>1</td>\n      <td>17</td>\n      <td>0</td>\n      <td>1</td>\n      <td>2</td>\n      <td>0.34</td>\n      <td>13</td>\n      <td>8.92</td>\n      <td>7.0010</td>\n      <td>19</td>\n      <td>393</td>\n    </tr>\n  </tbody>\n</table>\n</div>"
     },
     "execution_count": 1,
     "metadata": {},
     "output_type": "execute_result"
    }
   ],
   "source": [
    "# Imports\n",
    "import pandas as pd\n",
    "import matplotlib.pyplot as plt\n",
    "import numpy as np\n",
    "import seaborn as sns\n",
    "import tensorflow as tf\n",
    "# from tensorflow import keras\n",
    "# from tensorflow.python.keras import layers\n",
    "from sklearn.model_selection import train_test_split\n",
    "from sklearn.preprocessing import MinMaxScaler\n",
    "\n",
    "# Make NumPy printouts easier to read\n",
    "np.set_printoptions(precision=3, suppress=True)\n",
    "\n",
    "\n",
    "# Load the dataset\n",
    "bike_rentals = pd.read_csv(\"https://raw.githubusercontent.com/byui-cse/cse450-course/master/data/bikes.csv\")\n",
    "bike_rentals_holdout = pd.read_csv(\"https://raw.githubusercontent.com/byui-cse/cse450-course/master/data/bikes_december.csv\")\n",
    "\n",
    "\n",
    "# Define X/Y\n",
    "bike_rentals[\"total_rentals\"] = bike_rentals.casual + bike_rentals.registered\n",
    "y = bike_rentals.total_rentals\n",
    "X = bike_rentals.drop([\"total_rentals\", \"dteday\"], axis='columns')\n",
    "\n",
    "# Set aside the test set immediately\n",
    "X_train, X_test, y_train, y_test = train_test_split(X, y, test_size=0.2, random_state=0)\n",
    "\n",
    "X_train.head()"
   ]
  },
  {
   "cell_type": "code",
   "execution_count": 24,
   "outputs": [],
   "source": [
    "# Normalize the data\n",
    "# normalizer = tf.keras.layers.Normalization(axis=-1)\n",
    "# normalizer.adapt(np.array(X_train))\n",
    "# print(normalizer.mean.numpy())\n",
    "\n",
    "\n",
    "scaler = MinMaxScaler()\n",
    "\n",
    "X_train_normal = scaler.fit_transform(X_train)\n",
    "\n",
    "model = tf.keras.Sequential([\n",
    "    tf.keras.layers.Dense(64, activation=\"relu\"),\n",
    "    tf.keras.layers.Dense(32, activation=\"relu\"),\n",
    "    tf.keras.layers.Dense(16, activation=\"relu\"),\n",
    "    tf.keras.layers.Dense(8, activation=\"relu\"),\n",
    "    tf.keras.layers.Dense(4, activation=\"relu\"),\n",
    "    tf.keras.layers.Dense(1),\n",
    "])\n",
    "\n",
    "# initial garbage prediction\n",
    "model.predict(X_train_normal)"
   ],
   "metadata": {
    "collapsed": false
   }
  },
  {
   "cell_type": "code",
   "execution_count": 25,
   "outputs": [],
   "source": [
    "model.summary()"
   ],
   "metadata": {
    "collapsed": false
   }
  },
  {
   "cell_type": "code",
   "execution_count": 26,
   "outputs": [],
   "source": [
    "# Compile using a legacy optimizer cause M1 Mac\n",
    "model.compile(\n",
    "    optimizer=tf.keras.optimizers.legacy.Adam(learning_rate=0.1),\n",
    "    loss='mean_squared_error'\n",
    ")"
   ],
   "metadata": {
    "collapsed": false
   }
  },
  {
   "cell_type": "code",
   "execution_count": 27,
   "outputs": [],
   "source": [
    "# Train the neural network!\n",
    "training_history = model.fit(\n",
    "    X_train_normal,\n",
    "    y_train,\n",
    "    epochs=128,\n",
    "    validation_split=0.2\n",
    ")"
   ],
   "metadata": {
    "collapsed": false
   }
  },
  {
   "cell_type": "code",
   "execution_count": 28,
   "outputs": [],
   "source": [
    "hist = pd.DataFrame(training_history.history)\n",
    "hist['epoch'] = training_history.epoch\n",
    "hist.tail()\n",
    "\n",
    "def plot_loss(history):\n",
    "  plt.plot(history.history['loss'], label='loss')\n",
    "  plt.plot(history.history['val_loss'], label='val_loss')\n",
    "  plt.ylim([0, 10])\n",
    "  plt.xlim([0, 20])\n",
    "  plt.xlabel('Epoch')\n",
    "  plt.ylabel('Error [MPG]')\n",
    "  plt.legend()\n",
    "  plt.grid(True)\n",
    "\n",
    "plot_loss(training_history)"
   ],
   "metadata": {
    "collapsed": false
   }
  },
  {
   "cell_type": "code",
   "execution_count": null,
   "outputs": [],
   "source": [],
   "metadata": {
    "collapsed": false
   }
  }
 ],
 "metadata": {
  "kernelspec": {
   "display_name": "Python 3",
   "language": "python",
   "name": "python3"
  },
  "language_info": {
   "codemirror_mode": {
    "name": "ipython",
    "version": 2
   },
   "file_extension": ".py",
   "mimetype": "text/x-python",
   "name": "python",
   "nbconvert_exporter": "python",
   "pygments_lexer": "ipython2",
   "version": "2.7.6"
  }
 },
 "nbformat": 4,
 "nbformat_minor": 0
}
