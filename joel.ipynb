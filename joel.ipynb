{
 "cells": [
  {
   "cell_type": "code",
   "execution_count": 1,
   "metadata": {
    "collapsed": true,
    "ExecuteTime": {
     "end_time": "2023-06-01T23:05:09.610160Z",
     "start_time": "2023-06-01T23:05:05.309773Z"
    }
   },
   "outputs": [
    {
     "name": "stdout",
     "output_type": "stream",
     "text": [
      "2.13.0-rc1\n"
     ]
    }
   ],
   "source": [
    "# Imports\n",
    "import pandas as pd\n",
    "import matplotlib.pyplot as plt\n",
    "import numpy as np\n",
    "import seaborn as sns\n",
    "import tensorflow as tf\n",
    "# from tensorflow import keras\n",
    "# from tensorflow.python.keras import layers\n",
    "from sklearn.model_selection import train_test_split\n",
    "from sklearn.preprocessing import MinMaxScaler\n",
    "\n",
    "# Make NumPy printouts easier to read\n",
    "np.set_printoptions(precision=3, suppress=True)\n",
    "\n",
    "\n",
    "# Load the dataset\n",
    "bike_rentals = pd.read_csv(\"https://raw.githubusercontent.com/byui-cse/cse450-course/master/data/bikes.csv\")\n",
    "bike_rentals_holdout = pd.read_csv(\"https://raw.githubusercontent.com/byui-cse/cse450-course/master/data/bikes_december.csv\")\n",
    "\n",
    "\n",
    "# Define X/Y\n",
    "bike_rentals[\"total_rentals\"] = bike_rentals.casual + bike_rentals.registered\n",
    "y = bike_rentals.total_rentals\n",
    "X = bike_rentals.drop([\"total_rentals\", \"dteday\"], axis='columns')\n",
    "\n",
    "# Set aside the test set immediately\n",
    "X_train, X_test, y_train, y_test = train_test_split(X, y, test_size=0.2, random_state=0)\n"
   ]
  },
  {
   "cell_type": "code",
   "execution_count": 7,
   "outputs": [
    {
     "name": "stdout",
     "output_type": "stream",
     "text": [
      "416/416 [==============================] - 0s 268us/step\n"
     ]
    },
    {
     "data": {
      "text/plain": "array([[ 0.241],\n       [ 0.476],\n       [ 0.572],\n       ...,\n       [-0.206],\n       [ 0.39 ],\n       [ 0.147]], dtype=float32)"
     },
     "execution_count": 7,
     "metadata": {},
     "output_type": "execute_result"
    }
   ],
   "source": [
    "# Normalize the data\n",
    "# normalizer = tf.keras.layers.Normalization(axis=-1)\n",
    "# normalizer.adapt(np.array(X_train))\n",
    "# print(normalizer.mean.numpy())\n",
    "\n",
    "\n",
    "scaler = MinMaxScaler()\n",
    "\n",
    "X_train_normal = scaler.fit_transform(X_train)\n",
    "\n",
    "model = tf.keras.Sequential([\n",
    "    tf.keras.layers.Dense(units=1)\n",
    "])\n",
    "\n",
    "# initial garbage prediction\n",
    "model.predict(X_train_normal)"
   ],
   "metadata": {
    "collapsed": false,
    "ExecuteTime": {
     "end_time": "2023-06-01T23:07:34.804373Z",
     "start_time": "2023-06-01T23:07:34.525572Z"
    }
   }
  },
  {
   "cell_type": "code",
   "execution_count": 8,
   "outputs": [
    {
     "name": "stdout",
     "output_type": "stream",
     "text": [
      "Model: \"sequential_4\"\n",
      "_________________________________________________________________\n",
      " Layer (type)                Output Shape              Param #   \n",
      "=================================================================\n",
      " dense_4 (Dense)             (None, 1)                 12        \n",
      "                                                                 \n",
      "=================================================================\n",
      "Total params: 12 (48.00 Byte)\n",
      "Trainable params: 12 (48.00 Byte)\n",
      "Non-trainable params: 0 (0.00 Byte)\n",
      "_________________________________________________________________\n"
     ]
    }
   ],
   "source": [
    "model.summary()"
   ],
   "metadata": {
    "collapsed": false,
    "ExecuteTime": {
     "end_time": "2023-06-01T23:08:09.968634Z",
     "start_time": "2023-06-01T23:08:09.961658Z"
    }
   }
  },
  {
   "cell_type": "code",
   "execution_count": 10,
   "outputs": [],
   "source": [
    "# Compile using a legacy optimizer cause M1 Mac\n",
    "model.compile(\n",
    "    optimizer=tf.keras.optimizers.legacy.Adam(learning_rate=0.1),\n",
    "    loss='mean_absolute_error'\n",
    ")"
   ],
   "metadata": {
    "collapsed": false,
    "ExecuteTime": {
     "end_time": "2023-06-01T23:10:35.148921Z",
     "start_time": "2023-06-01T23:10:35.146844Z"
    }
   }
  },
  {
   "cell_type": "code",
   "execution_count": 14,
   "outputs": [
    {
     "name": "stdout",
     "output_type": "stream",
     "text": [
      "Epoch 1/50\n",
      "333/333 [==============================] - 0s 464us/step - loss: 0.0383 - val_loss: 0.0723\n",
      "Epoch 2/50\n",
      "333/333 [==============================] - 0s 416us/step - loss: 0.0340 - val_loss: 0.0561\n",
      "Epoch 3/50\n",
      "333/333 [==============================] - 0s 429us/step - loss: 0.0344 - val_loss: 0.0749\n",
      "Epoch 4/50\n",
      "333/333 [==============================] - 0s 426us/step - loss: 0.0359 - val_loss: 0.0493\n",
      "Epoch 5/50\n",
      "333/333 [==============================] - 0s 424us/step - loss: 0.0335 - val_loss: 0.0454\n",
      "Epoch 6/50\n",
      "333/333 [==============================] - 0s 417us/step - loss: 0.0339 - val_loss: 0.0606\n",
      "Epoch 7/50\n",
      "333/333 [==============================] - 0s 419us/step - loss: 0.0363 - val_loss: 0.0537\n",
      "Epoch 8/50\n",
      "333/333 [==============================] - 0s 411us/step - loss: 0.0368 - val_loss: 0.0729\n",
      "Epoch 9/50\n",
      "333/333 [==============================] - 0s 550us/step - loss: 0.0344 - val_loss: 0.0337\n",
      "Epoch 10/50\n",
      "333/333 [==============================] - 0s 413us/step - loss: 0.0326 - val_loss: 0.0254\n",
      "Epoch 11/50\n",
      "333/333 [==============================] - 0s 410us/step - loss: 0.0397 - val_loss: 0.0708\n",
      "Epoch 12/50\n",
      "333/333 [==============================] - 0s 411us/step - loss: 0.0408 - val_loss: 0.0073\n",
      "Epoch 13/50\n",
      "333/333 [==============================] - 0s 418us/step - loss: 0.0349 - val_loss: 0.0196\n",
      "Epoch 14/50\n",
      "333/333 [==============================] - 0s 417us/step - loss: 0.0348 - val_loss: 0.0287\n",
      "Epoch 15/50\n",
      "333/333 [==============================] - 0s 420us/step - loss: 0.0391 - val_loss: 0.0090\n",
      "Epoch 16/50\n",
      "333/333 [==============================] - 0s 416us/step - loss: 0.0351 - val_loss: 0.0185\n",
      "Epoch 17/50\n",
      "333/333 [==============================] - 0s 402us/step - loss: 0.0301 - val_loss: 0.0354\n",
      "Epoch 18/50\n",
      "333/333 [==============================] - 0s 427us/step - loss: 0.0343 - val_loss: 0.0306\n",
      "Epoch 19/50\n",
      "333/333 [==============================] - 0s 409us/step - loss: 0.0353 - val_loss: 0.0149\n",
      "Epoch 20/50\n",
      "333/333 [==============================] - 0s 419us/step - loss: 0.0387 - val_loss: 0.0177\n",
      "Epoch 21/50\n",
      "333/333 [==============================] - 0s 418us/step - loss: 0.0396 - val_loss: 0.0288\n",
      "Epoch 22/50\n",
      "333/333 [==============================] - 0s 417us/step - loss: 0.0307 - val_loss: 0.1024\n",
      "Epoch 23/50\n",
      "333/333 [==============================] - 0s 415us/step - loss: 0.0368 - val_loss: 0.0186\n",
      "Epoch 24/50\n",
      "333/333 [==============================] - 0s 415us/step - loss: 0.0334 - val_loss: 0.0199\n",
      "Epoch 25/50\n",
      "333/333 [==============================] - 0s 423us/step - loss: 0.0402 - val_loss: 0.0235\n",
      "Epoch 26/50\n",
      "333/333 [==============================] - 0s 409us/step - loss: 0.0492 - val_loss: 0.0578\n",
      "Epoch 27/50\n",
      "333/333 [==============================] - 0s 419us/step - loss: 0.0384 - val_loss: 0.0433\n",
      "Epoch 28/50\n",
      "333/333 [==============================] - 0s 417us/step - loss: 0.0403 - val_loss: 0.0216\n",
      "Epoch 29/50\n",
      "333/333 [==============================] - 0s 415us/step - loss: 0.0372 - val_loss: 0.0119\n",
      "Epoch 30/50\n",
      "333/333 [==============================] - 0s 415us/step - loss: 0.0313 - val_loss: 0.0578\n",
      "Epoch 31/50\n",
      "333/333 [==============================] - 0s 408us/step - loss: 0.0390 - val_loss: 0.0568\n",
      "Epoch 32/50\n",
      "333/333 [==============================] - 0s 412us/step - loss: 0.0434 - val_loss: 0.0594\n",
      "Epoch 33/50\n",
      "333/333 [==============================] - 0s 411us/step - loss: 0.0348 - val_loss: 0.0167\n",
      "Epoch 34/50\n",
      "333/333 [==============================] - 0s 408us/step - loss: 0.0397 - val_loss: 0.0560\n",
      "Epoch 35/50\n",
      "333/333 [==============================] - 0s 413us/step - loss: 0.0453 - val_loss: 0.0500\n",
      "Epoch 36/50\n",
      "333/333 [==============================] - 0s 428us/step - loss: 0.0292 - val_loss: 0.0203\n",
      "Epoch 37/50\n",
      "333/333 [==============================] - 0s 413us/step - loss: 0.0337 - val_loss: 0.0454\n",
      "Epoch 38/50\n",
      "333/333 [==============================] - 0s 415us/step - loss: 0.0357 - val_loss: 0.0103\n",
      "Epoch 39/50\n",
      "333/333 [==============================] - 0s 418us/step - loss: 0.0369 - val_loss: 0.0256\n",
      "Epoch 40/50\n",
      "333/333 [==============================] - 0s 408us/step - loss: 0.0353 - val_loss: 0.0268\n",
      "Epoch 41/50\n",
      "333/333 [==============================] - 0s 420us/step - loss: 0.0353 - val_loss: 0.0096\n",
      "Epoch 42/50\n",
      "333/333 [==============================] - 0s 413us/step - loss: 0.0314 - val_loss: 0.0142\n",
      "Epoch 43/50\n",
      "333/333 [==============================] - 0s 433us/step - loss: 0.0309 - val_loss: 0.0126\n",
      "Epoch 44/50\n",
      "333/333 [==============================] - 0s 409us/step - loss: 0.0341 - val_loss: 0.0282\n",
      "Epoch 45/50\n",
      "333/333 [==============================] - 0s 408us/step - loss: 0.0296 - val_loss: 0.0608\n",
      "Epoch 46/50\n",
      "333/333 [==============================] - 0s 418us/step - loss: 0.0331 - val_loss: 0.0134\n",
      "Epoch 47/50\n",
      "333/333 [==============================] - 0s 413us/step - loss: 0.0317 - val_loss: 0.0422\n",
      "Epoch 48/50\n",
      "333/333 [==============================] - 0s 404us/step - loss: 0.0337 - val_loss: 0.0362\n",
      "Epoch 49/50\n",
      "333/333 [==============================] - 0s 416us/step - loss: 0.0347 - val_loss: 0.0933\n",
      "Epoch 50/50\n",
      "333/333 [==============================] - 0s 410us/step - loss: 0.0418 - val_loss: 0.0371\n"
     ]
    }
   ],
   "source": [
    "# Train the neural network!\n",
    "training_history = model.fit(\n",
    "    X_train_normal,\n",
    "    y_train,\n",
    "    epochs=50,\n",
    "    validation_split=0.2\n",
    ")"
   ],
   "metadata": {
    "collapsed": false,
    "ExecuteTime": {
     "end_time": "2023-06-01T23:15:38.949709Z",
     "start_time": "2023-06-01T23:15:31.891074Z"
    }
   }
  },
  {
   "cell_type": "code",
   "execution_count": 15,
   "outputs": [
    {
     "data": {
      "text/plain": "<Figure size 640x480 with 1 Axes>",
      "image/png": "[encoded data removed]"
     },
     "metadata": {},
     "output_type": "display_data"
    }
   ],
   "source": [
    "hist = pd.DataFrame(training_history.history)\n",
    "hist['epoch'] = training_history.epoch\n",
    "hist.tail()\n",
    "\n",
    "def plot_loss(history):\n",
    "  plt.plot(history.history['loss'], label='loss')\n",
    "  plt.plot(history.history['val_loss'], label='val_loss')\n",
    "  plt.ylim([0, 10])\n",
    "  plt.xlabel('Epoch')\n",
    "  plt.ylabel('Error [MPG]')\n",
    "  plt.legend()\n",
    "  plt.grid(True)\n",
    "\n",
    "plot_loss(training_history)"
   ],
   "metadata": {
    "collapsed": false,
    "ExecuteTime": {
     "end_time": "2023-06-01T23:15:42.737394Z",
     "start_time": "2023-06-01T23:15:42.600171Z"
    }
   }
  }
 ],
 "metadata": {
  "kernelspec": {
   "display_name": "Python 3",
   "language": "python",
   "name": "python3"
  },
  "language_info": {
   "codemirror_mode": {
    "name": "ipython",
    "version": 2
   },
   "file_extension": ".py",
   "mimetype": "text/x-python",
   "name": "python",
   "nbconvert_exporter": "python",
   "pygments_lexer": "ipython2",
   "version": "2.7.6"
  }
 },
 "nbformat": 4,
 "nbformat_minor": 0
}
