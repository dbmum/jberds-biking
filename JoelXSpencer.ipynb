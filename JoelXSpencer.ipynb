{
 "cells": [
  {
   "cell_type": "code",
   "execution_count": null,
   "metadata": {
    "collapsed": true
   },
   "outputs": [],
   "source": [
    "import pandas as pd\n",
    "\n",
    "\n",
    "class NeuralNetworkModel:\n",
    "\n",
    "    def __init__(self):\n",
    "        self.history = None\n",
    "        self.model = None\n",
    "\n",
    "    def _preprocess(self, dataset: pd.DataFrame) -> pd.DataFrame:\n",
    "        pass\n",
    "\n",
    "    def train(self, X_train: pd.DataFrame, y_train: pd.DataFrame) -> None:\n",
    "        self._preprocess(X_train)\n",
    "        pass\n",
    "\n",
    "    def predict(self, X: pd.DataFrame) -> pd.Series:\n",
    "        X = self._preprocess(X)\n",
    "        return self.model.predict(X)\n",
    "        pass\n"
   ]
  },
  {
   "cell_type": "code",
   "execution_count": null,
   "outputs": [],
   "source": [],
   "metadata": {
    "collapsed": false
   }
  }
 ],
 "metadata": {
  "kernelspec": {
   "display_name": "Python 3",
   "language": "python",
   "name": "python3"
  },
  "language_info": {
   "codemirror_mode": {
    "name": "ipython",
    "version": 2
   },
   "file_extension": ".py",
   "mimetype": "text/x-python",
   "name": "python",
   "nbconvert_exporter": "python",
   "pygments_lexer": "ipython2",
   "version": "2.7.6"
  }
 },
 "nbformat": 4,
 "nbformat_minor": 0
}
